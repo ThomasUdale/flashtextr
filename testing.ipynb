{
 "cells": [
  {
   "cell_type": "code",
   "execution_count": null,
   "metadata": {},
   "outputs": [],
   "source": [
    "from flashtext.keyword import KeywordProcessor\n",
    "from flashtextr import FlashText\n",
    "import random\n",
    "import string\n",
    "import re\n",
    "import time\n",
    "from IPython.display import clear_output\n",
    "from tqdm import tqdm"
   ]
  },
  {
   "cell_type": "code",
   "execution_count": null,
   "metadata": {},
   "outputs": [],
   "source": [
    "def get_word_of_length(str_length):\n",
    "    # generate a random word of given length\n",
    "    return ''.join(random.choice(string.ascii_lowercase) for _ in range(str_length))\n",
    "\n",
    "# generate a list of 100K words of randomly chosen size\n",
    "all_words = [get_word_of_length(random.choice([3, 4, 5, 6, 7, 8])) for i in range(100000)]\n",
    "\n",
    "print('Count  | FlashText | Regex | Flashtextr')\n",
    "print('-------------------------------')\n",
    "for keywords_length in range(0, 20001, 1000):\n",
    "    # chose 5000 terms and create a string to search in.\n",
    "    all_words_chosen = random.sample(all_words, 100000)\n",
    "    story = ' '.join(all_words_chosen)\n",
    "\n",
    "    # get unique keywords from the list of words generated.\n",
    "    unique_keywords_sublist = list(set(random.sample(all_words_chosen, keywords_length)))\n",
    "\n",
    "    # compile regex\n",
    "    compiled_re = re.compile('|'.join([r'\\b' + keyword + r'\\b' for keyword in unique_keywords_sublist]))\n",
    "\n",
    "    # add keywords to flashtext\n",
    "    keyword_processor = KeywordProcessor()\n",
    "    keyword_processor.add_keywords_from_list(unique_keywords_sublist)\n",
    "\n",
    "    x = FlashText(False)\n",
    "    for word in unique_keywords_sublist:\n",
    "        x.add_keyword(word)\n",
    "\n",
    "    # time the modules\n",
    "    start = time.time()\n",
    "    f_output = keyword_processor.extract_keywords(story)\n",
    "    flashtext_time = time.time()\n",
    "    _ = compiled_re.findall(story)\n",
    "    re_time = time.time()\n",
    "    r_output = x.extract_keywords(story)\n",
    "    rust_time = time.time()\n",
    "    # print output\n",
    "    print(str(keywords_length).ljust(6), '|',\n",
    "          \"{0:.5f}\".format(flashtext_time - start).ljust(9), '|',\n",
    "          \"{0:.5f}\".format(re_time - flashtext_time).ljust(9), '|',\n",
    "          \"{0:.5f}\".format(rust_time - re_time).ljust(9), '|',)"
   ]
  }
 ],
 "metadata": {
  "interpreter": {
   "hash": "5aea44f9df4db0347750bdaae541be1495db8d71f15ebcd268bb2ff7976b4736"
  },
  "kernelspec": {
   "display_name": "Python 3.9.7 64-bit ('flashtext_rust')",
   "language": "python",
   "name": "python3"
  },
  "language_info": {
   "codemirror_mode": {
    "name": "ipython",
    "version": 3
   },
   "file_extension": ".py",
   "mimetype": "text/x-python",
   "name": "python",
   "nbconvert_exporter": "python",
   "pygments_lexer": "ipython3",
   "version": "3.9.7"
  },
  "orig_nbformat": 4
 },
 "nbformat": 4,
 "nbformat_minor": 2
}
